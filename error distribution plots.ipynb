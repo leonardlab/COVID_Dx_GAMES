{
 "cells": [
  {
   "cell_type": "code",
   "execution_count": 1,
   "metadata": {},
   "outputs": [
    {
     "name": "stdout",
     "output_type": "stream",
     "text": [
      "Main directory created at: 2021-11-30 m2 all echo 1000 + 24 with new icas13 filter no error weighting 2 OM in each direction with more stringent cas13 filter 0.1\n",
      "***\n",
      "\n",
      "********************************************\n",
      "MODULES: []\n",
      "Total run time (min): 0.0\n",
      "Total run time (hours): 0.0\n",
      "********************************************\n",
      "Main directory created at: 2021-11-30 m2 all echo 1000 + 24 with new icas13 filter no error weighting 2 OM in each direction with more stringent cas13 filter 0.1\n",
      "***\n"
     ]
    }
   ],
   "source": [
    "#Package imports\n",
    "import os\n",
    "import numpy as np\n",
    "import pandas as pd\n",
    "import matplotlib.pyplot as plt\n",
    "import cycler\n",
    "from math import log10\n",
    "from scipy import stats\n",
    "import scipy\n",
    "from pylab import *\n",
    "from scipy.optimize import curve_fit\n",
    "from math import exp, sqrt\n",
    "from sklearn.linear_model import LinearRegression\n",
    "from lmfit import Parameters, minimize\n",
    "import seaborn as sns\n",
    "        \n",
    "#GAMES imports\n",
    "import Settings_COVID_Dx\n",
    "from Solvers_COVID_Dx import calcChi2, calcRsq, solveSingle\n",
    "from Run_COVID_Dx import addNoise, solveAll, parityPlot\n",
    "from Saving_COVID_Dx import createFolder\n",
    "\n",
    "#Define settings\n",
    "\n",
    "conditions_dictionary, initial_params_dictionary, data_dictionary = Settings_COVID_Dx.init()\n",
    "run = conditions_dictionary[\"run\"]\n",
    "full_path = conditions_dictionary[\"directory\"]\n",
    "model = conditions_dictionary[\"model\"]\n",
    "data = conditions_dictionary[\"data\"]\n",
    "error = data_dictionary[\"error\"]\n",
    "exp_data = data_dictionary[\"exp_data\"]\n",
    "timecourses_err = data_dictionary[\"timecourses_err\"]\n",
    "timecourses_exp = data_dictionary[\"timecourses\"]\n",
    "x = data_dictionary[\"x_vals\"]\n",
    "df_data = pd.read_pickle('./PROCESSED DATA EXP.pkl')\n",
    "df_error = pd.read_pickle('./PROCESSED DATA ERR.pkl')  \n",
    "plt.style.use('./paper.mplstyle.py')"
   ]
  },
  {
   "cell_type": "code",
   "execution_count": 5,
   "metadata": {},
   "outputs": [
    {
     "data": {
      "image/png": "[encoded data removed]",
      "text/plain": [
       "<Figure size 432x288 with 1 Axes>"
      ]
     },
     "metadata": {
      "needs_background": "light"
     },
     "output_type": "display_data"
    },
    {
     "data": {
      "image/png": "[encoded data removed]",
      "text/plain": [
       "<Figure size 432x288 with 1 Axes>"
      ]
     },
     "metadata": {
      "needs_background": "light"
     },
     "output_type": "display_data"
    },
    {
     "data": {
      "image/png": "[encoded data removed]",
      "text/plain": [
       "<Figure size 432x288 with 1 Axes>"
      ]
     },
     "metadata": {
      "needs_background": "light"
     },
     "output_type": "display_data"
    }
   ],
   "source": [
    "def plotError():\n",
    "    def chunks(lst, n):\n",
    "        \"\"\"Yield successive n-sized chunks from lst.\"\"\"\n",
    "        for i in range(0, len(lst), n):\n",
    "            yield lst[i:i + n]\n",
    "        \n",
    "    error_lists = list(chunks(error, 61))\n",
    "    data_lists = list(chunks(exp_data, 61))\n",
    "    \n",
    "    percent_err_lists = []\n",
    "    percent_err_mean = []\n",
    "    per_error_means = []\n",
    "    for i, list_ in enumerate(error_lists):\n",
    "        data_list = data_lists[i]\n",
    "        error_list = error_lists[i]\n",
    "        #print(data_list)\n",
    "        per_error_list = [j/max(data_list) for j in error_list]\n",
    "        per_error_means.append(np.mean(per_error_list))\n",
    "        percent_err_lists.append(per_error_list)\n",
    "        # if i == 10:\n",
    "        #     per_error_list = [log10(i) for i in per_error_list]\n",
    "        #     plt.hist(per_error_list, bins=50, color = 'teal')\n",
    "    \n",
    "    \n",
    "    percentile_99 = np.percentile(per_error_means, 99)\n",
    "    percentile_95 = np.percentile(per_error_means, 95)\n",
    "    percentile_90 = np.percentile(per_error_means, 90)\n",
    "    \n",
    "    fig = plt.figure()\n",
    "    plt.hist(error, bins=50, color = 'rebeccapurple')\n",
    "    plt.xlabel('standard deviation')\n",
    "    plt.ylabel('count')\n",
    "    plt.savefig('./error distribution')\n",
    "    \n",
    "    def flatten(t):\n",
    "        return [item for sublist in t for item in sublist]\n",
    "    \n",
    "    fig = plt.figure()\n",
    "    proportion_error = flatten(percent_err_lists)\n",
    "    plt.hist(proportion_error, bins=50, color = 'teal')\n",
    "    plt.xlabel('proportion_error')\n",
    "    plt.ylabel('count')\n",
    "    plt.savefig('./proportion error distribution')\n",
    "    \n",
    "    fig = plt.figure()\n",
    "    plt.hist(per_error_means, bins=50, color = 'deeppink')\n",
    "    plt.xlabel('mean proportion_error')\n",
    "    plt.ylabel('count')\n",
    "    plt.savefig('./proportion error distribution means only')\n",
    "    \n",
    "    return per_error_means\n",
    "    \n",
    "per_error_means = plotError()"
   ]
  },
  {
   "cell_type": "code",
   "execution_count": 16,
   "metadata": {},
   "outputs": [
    {
     "name": "stdout",
     "output_type": "stream",
     "text": [
      "6\n",
      "0.3351678530223132\n",
      "***\n",
      "15\n",
      "0.5352990815584777\n",
      "***\n",
      "22\n",
      "0.6234162776380853\n",
      "***\n",
      "28\n",
      "0.605769370715888\n",
      "***\n",
      "33\n",
      "0.42286478370041164\n",
      "***\n",
      "37\n",
      "0.793369887568332\n",
      "***\n",
      "49\n",
      "0.4058456007979378\n",
      "***\n",
      "6\n",
      "[20.0, 0.5, 0.02, 10, 90]\n",
      "***\n",
      "15\n",
      "[5.0, 0.5, 0.02, 10, 90]\n",
      "***\n",
      "22\n",
      "[1.0, 2.5, 0.005, 10, 90]\n",
      "***\n",
      "28\n",
      "[20.0, 10.0, 0.005, 1, 90]\n",
      "***\n",
      "33\n",
      "[20.0, 0.5, 0.02, 1, 90]\n",
      "***\n",
      "37\n",
      "[5.0, 10.0, 0.005, 1, 90]\n",
      "***\n",
      "49\n",
      "[1.0, 2.5, 0.005, 1, 90]\n",
      "***\n"
     ]
    }
   ],
   "source": [
    "index_list = []\n",
    "for i, val in enumerate(per_error_means):\n",
    "    if val > 0.3:\n",
    "        print(i)\n",
    "        print(val)\n",
    "        print('***')\n",
    "        index_list.append(i)\n",
    "\n",
    "index_column = -1\n",
    "labels = []\n",
    "for (columnName, columnData) in df_data.iteritems():\n",
    "    if label == [20.0, 10.0, 0.001, 10.0, 90.0] or label == [20.0, 10.0, 0.001, 0.0, 90.0] or label == [5.0, 2.5, 0.001, 0.0, 90.0]:\n",
    "        continue\n",
    "    else:\n",
    "        index_column += 1\n",
    "        \n",
    "    if index_column in index_list:\n",
    "        label = list(columnData.iloc[0])\n",
    "        labels.append(label)\n",
    "        print(index_column)\n",
    "        print(label)\n",
    "        print('***')\n",
    "    \n",
    "    \n",
    "\n",
    "        \n"
   ]
  },
  {
   "cell_type": "code",
   "execution_count": null,
   "metadata": {},
   "outputs": [],
   "source": []
  }
 ],
 "metadata": {
  "kernelspec": {
   "display_name": "GAMES",
   "language": "python",
   "name": "python3"
  },
  "language_info": {
   "codemirror_mode": {
    "name": "ipython",
    "version": 3
   },
   "file_extension": ".py",
   "mimetype": "text/x-python",
   "name": "python",
   "nbconvert_exporter": "python",
   "pygments_lexer": "ipython3",
   "version": "3.9.12 (main, Apr  5 2022, 01:53:17) \n[Clang 12.0.0 ]"
  },
  "vscode": {
   "interpreter": {
    "hash": "82441094f01560948be5bdee9167d01d28800eb08b17bb46d7981832cbbe0263"
   }
  }
 },
 "nbformat": 4,
 "nbformat_minor": 4
}
